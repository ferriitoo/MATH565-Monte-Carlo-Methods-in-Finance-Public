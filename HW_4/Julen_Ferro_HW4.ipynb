{
 "cells": [
  {
   "cell_type": "markdown",
   "metadata": {},
   "source": [
    "### This will be the solution to the Homework 4 of the subject CS 430 Introduction to Algorithm "
   ]
  },
  {
   "cell_type": "code",
   "execution_count": 31,
   "metadata": {},
   "outputs": [
    {
     "name": "stdout",
     "output_type": "stream",
     "text": [
      "[[0.0, 0.0, 1.0, 0.0, 0.0, 1.0, 1.0, 0.0, 1.0, 0.0], [0.0, 0.0, 1.0, 0.0, 1.0, 0.0, 1.0, 0.0, 1.0, 0.0], [1.0, 1.0, 0.0, 0.0, 0.0, 0.0, 1.0, 0.0, 0.0, 0.0], [1.0, 0.0, 1.0, 0.0, 0.0, 0.0, 1.0, 0.0, 1.0, 0.0], [0.0, 0.0, 1.0, 0.0, 0.0, 0.0, 0.0, 0.0, 1.0, 0.0], [1.0, 0.0, 0.0, 1.0, 0.0, 0.0, 1.0, 0.0, 0.0, 0.0], [1.0, 0.0, 1.0, 0.0, 0.0, 0.0, 0.0, 0.0, 1.0, 0.0], [1.0, 0.0, 1.0, 0.0, 0.0, 0.0, 0.0, 0.0, 1.0, 0.0], [0.0, 0.0, 0.0, 0.0, 0.0, 0.0, 1.0, 0.0, 0.0, 0.0], [1.0, 0.0, 1.0, 0.0, 0.0, 0.0, 1.0, 0.0, 1.0, 0.0]]\n"
     ]
    },
    {
     "data": {
      "text/plain": [
       "list"
      ]
     },
     "execution_count": 31,
     "metadata": {},
     "output_type": "execute_result"
    }
   ],
   "source": [
    "import numpy as np\n",
    "import pandas as pd\n",
    "\n",
    "#creating the A matrix based on the information given in the statement about the links between nodes\n",
    "A = [[0, 0, 1, 0, 0, 1, 1, 0, 1, 0],\n",
    "     [0, 0, 1, 0, 1, 0, 1, 0, 1, 0],\n",
    "     [1, 1, 0, 0, 0, 0, 1, 0, 0, 0],\n",
    "     [1, 0, 1, 0, 0, 0, 1, 0, 1, 0],\n",
    "     [0, 0, 1, 0, 0, 0, 0, 0, 1, 0],\n",
    "     [1, 0, 0, 1, 0, 0, 1, 0, 0, 0],\n",
    "     [1, 0, 1, 0, 0, 0, 0, 0, 1, 0],\n",
    "     [1, 0, 1, 0, 0, 0, 0, 0, 1, 0],\n",
    "     [0, 0, 0, 0, 0, 0, 1, 0, 0, 0],\n",
    "     [1, 0, 1, 0, 0, 0, 1, 0, 1, 0]]\n",
    "\n",
    "A_matrix = []\n",
    "\n",
    "for i in range(len(A)):\n",
    "     row = [float(x) for x in A[i]] #converting the values on each row of the matrix into floats\n",
    "     A_matrix.append(row) #creating a matrix based on the transformed rows\n",
    "\n",
    "#A_matrix = np.array(A)\n",
    "print(A_matrix)\n",
    "type(A)"
   ]
  },
  {
   "cell_type": "markdown",
   "metadata": {},
   "source": [
    "# (a) (1 point) \n",
    "### Find the row-normalized hyperlink matrix H of this graph. Are there any dangling nodes in this hyperlink graph?\n",
    "### This function will serve to adapt the PageRank matrix into a Probability form"
   ]
  },
  {
   "cell_type": "code",
   "execution_count": 32,
   "metadata": {},
   "outputs": [
    {
     "name": "stdout",
     "output_type": "stream",
     "text": [
      "[[0.   0.   0.25 0.   0.   0.25 0.25 0.   0.25 0.  ]\n",
      " [0.   0.   0.25 0.   0.25 0.   0.25 0.   0.25 0.  ]\n",
      " [0.33 0.33 0.   0.   0.   0.   0.33 0.   0.   0.  ]\n",
      " [0.25 0.   0.25 0.   0.   0.   0.25 0.   0.25 0.  ]\n",
      " [0.   0.   0.5  0.   0.   0.   0.   0.   0.5  0.  ]\n",
      " [0.33 0.   0.   0.33 0.   0.   0.33 0.   0.   0.  ]\n",
      " [0.33 0.   0.33 0.   0.   0.   0.   0.   0.33 0.  ]\n",
      " [0.33 0.   0.33 0.   0.   0.   0.   0.   0.33 0.  ]\n",
      " [0.   0.   0.   0.   0.   0.   1.   0.   0.   0.  ]\n",
      " [0.25 0.   0.25 0.   0.   0.   0.25 0.   0.25 0.  ]]\n",
      "\n",
      "\n"
     ]
    }
   ],
   "source": [
    "def prob(B: list) -> list: \n",
    "    rows = len(B)\n",
    "    col = len(B[0])\n",
    "    for i in range(rows):\n",
    "        array = []\n",
    "        for j in range(col):\n",
    "            if (B[i][j] == 1.0):\n",
    "                array.append(j) #saving the locations of the positions of thearray that are already filled \n",
    "        count = len(array)    \n",
    "        for h in array:\n",
    "            B[i][h] = round(B[i][h] / count, 2) #inserting the probability value into each of the previously filled position\n",
    "    return B \n",
    "\n",
    "H_matrix = np.array(prob(A_matrix))\n",
    "\n",
    "print(H_matrix)\n",
    "print(\"\\n\")"
   ]
  },
  {
   "cell_type": "markdown",
   "metadata": {},
   "source": [
    "### The procedure to be followed in order to make the calculations will be to start from a solution vector and to iterate until a reasonable result is found."
   ]
  },
  {
   "cell_type": "code",
   "execution_count": 33,
   "metadata": {},
   "outputs": [
    {
     "name": "stdout",
     "output_type": "stream",
     "text": [
      "10\n",
      "In the 1 iteration:  [0.1, 0.1, 0.1, 0.1, 0.1, 0.1, 0.1, 0.1, 0.1, 0.1]\n",
      "\n",
      "\n",
      "In the 2. iteration:  [0.18 0.03 0.22 0.03 0.02 0.02 0.27 0.   0.22 0.  ]\n",
      "The error in the 2. iteration:  -0.001\n",
      "\n",
      "\n",
      "In the 3. iteration:  [0.18 0.07 0.16 0.01 0.01 0.04 0.36 0.   0.16 0.  ]\n",
      "The error in the 3. iteration:  0.0\n",
      "\n",
      "\n",
      "0.99\n",
      "The v vector IS a probability vector\n"
     ]
    }
   ],
   "source": [
    "length = max(H_matrix.shape)\n",
    "print(length)\n",
    "\n",
    "v = []\n",
    "for i in range(length):\n",
    "    v.append(round(1.0 / length, 2)) #setting up an initial v vector\n",
    "\n",
    "reference = v   \n",
    "threshold = 0.0000000001  \n",
    "error = threshold + 0.1 \n",
    "counter = 1\n",
    "print(\"In the {} iteration: \".format(counter), v)\n",
    "\n",
    "while(abs(error) > threshold): #iterating until the error gets lower than the threshold\n",
    "    previous = v\n",
    "    v = np.round(np.dot(v, H_matrix), 2)\n",
    "    error = np.mean(v) - np.mean(previous)\n",
    "    counter += 1\n",
    "    print(\"\\n\")\n",
    "    print(\"In the {}. iteration: \".format(counter), v)\n",
    "    print(\"The error in the {}. iteration: \".format(counter), round(error, 4))\n",
    "\n",
    "sum = np.mean(v) * len(v)\n",
    "print(\"\\n\")\n",
    "print(sum)\n",
    "if (abs(sum -1.0) < 0.015): #checking if the vector fill the requirements for being a probability vector\n",
    "    print(\"The v vector IS a probability vector\")\n",
    "else:\n",
    "    print(\"The v vector IS NOT a probability vector\")    \n",
    "    "
   ]
  },
  {
   "cell_type": "markdown",
   "metadata": {},
   "source": [
    "### It can be seen that there is not any dangling node, due to the fact that there is not any null row within the H_matrix. That is to say, every single node has at least one outlink. When users reach a dangling node, they have nowhere to keep going and they stuck, for instance, like in a PDF document or image files. "
   ]
  },
  {
   "cell_type": "markdown",
   "metadata": {},
   "source": [
    "# (b) (2 points)\n",
    "###  Find the Google matrix G of this graph. Assume the damping factor d=0.85. \n"
   ]
  },
  {
   "cell_type": "code",
   "execution_count": 34,
   "metadata": {},
   "outputs": [
    {
     "name": "stdout",
     "output_type": "stream",
     "text": [
      "[[0.   0.   0.25 0.   0.   0.25 0.25 0.   0.25 0.  ]\n",
      " [0.   0.   0.25 0.   0.25 0.   0.25 0.   0.25 0.  ]\n",
      " [0.33 0.33 0.   0.   0.   0.   0.33 0.   0.   0.  ]\n",
      " [0.25 0.   0.25 0.   0.   0.   0.25 0.   0.25 0.  ]\n",
      " [0.   0.   0.5  0.   0.   0.   0.   0.   0.5  0.  ]\n",
      " [0.33 0.   0.   0.33 0.   0.   0.33 0.   0.   0.  ]\n",
      " [0.33 0.   0.33 0.   0.   0.   0.   0.   0.33 0.  ]\n",
      " [0.33 0.   0.33 0.   0.   0.   0.   0.   0.33 0.  ]\n",
      " [0.   0.   0.   0.   0.   0.   1.   0.   0.   0.  ]\n",
      " [0.25 0.   0.25 0.   0.   0.   0.25 0.   0.25 0.  ]]\n",
      "\n",
      "\n",
      "[[0.015 0.015 0.227 0.015 0.015 0.227 0.227 0.015 0.227 0.015]\n",
      " [0.015 0.015 0.227 0.015 0.227 0.015 0.227 0.015 0.227 0.015]\n",
      " [0.295 0.295 0.015 0.015 0.015 0.015 0.295 0.015 0.015 0.015]\n",
      " [0.227 0.015 0.227 0.015 0.015 0.015 0.227 0.015 0.227 0.015]\n",
      " [0.015 0.015 0.44  0.015 0.015 0.015 0.015 0.015 0.44  0.015]\n",
      " [0.295 0.015 0.015 0.295 0.015 0.015 0.295 0.015 0.015 0.015]\n",
      " [0.295 0.015 0.295 0.015 0.015 0.015 0.015 0.015 0.295 0.015]\n",
      " [0.295 0.015 0.295 0.015 0.015 0.015 0.015 0.015 0.295 0.015]\n",
      " [0.015 0.015 0.015 0.015 0.015 0.015 0.865 0.015 0.015 0.015]\n",
      " [0.227 0.015 0.227 0.015 0.015 0.015 0.227 0.015 0.227 0.015]]\n",
      "\n",
      "\n",
      "[[0.015 0.015 0.227 0.015 0.015 0.227 0.227 0.015 0.227 0.015]\n",
      " [0.015 0.015 0.227 0.015 0.227 0.015 0.227 0.015 0.227 0.015]\n",
      " [0.295 0.295 0.015 0.015 0.015 0.015 0.295 0.015 0.015 0.015]\n",
      " [0.227 0.015 0.227 0.015 0.015 0.015 0.227 0.015 0.227 0.015]\n",
      " [0.015 0.015 0.44  0.015 0.015 0.015 0.015 0.015 0.44  0.015]\n",
      " [0.295 0.015 0.015 0.295 0.015 0.015 0.295 0.015 0.015 0.015]\n",
      " [0.295 0.015 0.295 0.015 0.015 0.015 0.015 0.015 0.295 0.015]\n",
      " [0.295 0.015 0.295 0.015 0.015 0.015 0.015 0.015 0.295 0.015]\n",
      " [0.015 0.015 0.015 0.015 0.015 0.015 0.865 0.015 0.015 0.015]\n",
      " [0.227 0.015 0.227 0.015 0.015 0.015 0.227 0.015 0.227 0.015]]\n"
     ]
    }
   ],
   "source": [
    "def damping(B:list, d:float) -> list:\n",
    "    global reference\n",
    "    rows = len(B)\n",
    "    col = len(B[0])\n",
    "    for i in range(rows): #reading each row\n",
    "        list1 = [round(x * d, 3) for x in B[i]]\n",
    "        #print(list1)\n",
    "        list2 = [round(x * (1.0 - d), 3) for x in reference]\n",
    "        #print(list2)\n",
    "        for j in range(col):\n",
    "            B[i][j] =  list1[j] + list2[j] #transforming each row by taking into account the damping factor\n",
    "    return B \n",
    "    \n",
    "#SHOULD WE HAVE TO TRANSFORM FROM H TO S? LE HE PREGUNTADO A CHLEBUS\n",
    "\n",
    "print(H_matrix)\n",
    "\n",
    "d = 0.85 #setting up a damping factor\n",
    "G_matrix = damping(H_matrix, d)\n",
    "\n",
    "print(\"\\n\")\n",
    "print(G_matrix)\n",
    "print(\"\\n\")\n",
    "print(H_matrix)\n",
    "\n",
    "#FUNCIONA MAL: WHY H_MATRIX TAKES THE VALUES OF G_MATRIX???????!!!!!!!!!!!!!!!!!!!"
   ]
  },
  {
   "cell_type": "markdown",
   "metadata": {},
   "source": [
    "# (c) (2 points) \n",
    "### You are NOT allowed to use the formula for the number of iterations (given in [1], page 15, item 2b) needed to obtain numerical values of the PageRank row vector v. Propose an alternative termination criterion for this iterative algorithm."
   ]
  },
  {
   "cell_type": "code",
   "execution_count": 35,
   "metadata": {},
   "outputs": [],
   "source": [
    "#tHE CRITERION THAT I USED IN A) WAS TO STOP WHEN THE ERROR WAS LOWER THAN THE THRESHOLD, SO THIS COULD BE THE ONE USED IN HERE, AND USE THE ONE DEFINED IN THE REPORT FOR A). THE ONE OF THE FORMULA loops = m/log10(1/d)"
   ]
  },
  {
   "cell_type": "markdown",
   "metadata": {},
   "source": [
    "# (d) (4 points) \n",
    "### Find iteratively numerical values of all elements of the PageRank row vector v=[r(P1), r(P2),…, r(P10)]. Use your termination criterion proposed in item (c). How many iterations do you need to obtain your numerical results? Assume the damping factor d=0.85 and v(0)=[0.1, 0.1, 0.1,…, 0.1]. Implement this iterative algorithm by yourself (absolutely no Excel or program libraries)"
   ]
  },
  {
   "cell_type": "code",
   "execution_count": null,
   "metadata": {},
   "outputs": [],
   "source": []
  },
  {
   "cell_type": "markdown",
   "metadata": {},
   "source": [
    "# (e) (2 points) \n",
    "### Plot the evolution of numerical values of r(P5) and r(P7) for subsequent iteration steps of the algorithm for:  (e.1) d=0.55 and v(0)=[0.1, 0.1, 0.1,…, 0.1] (e.2) d=0.85 and v(0)=[0.1, 0.1, 0.1,…, 0.1]"
   ]
  },
  {
   "cell_type": "code",
   "execution_count": null,
   "metadata": {},
   "outputs": [],
   "source": []
  },
  {
   "cell_type": "markdown",
   "metadata": {},
   "source": [
    "# (f) (2 points) \n",
    "### Assume d=0.85 and run your algorithm for three different initial PageRank row vectors v1(0), v2(0) and v3(0). What are the final numerical values of v1, v2 and v3 ? Are they identicalor different?"
   ]
  },
  {
   "cell_type": "code",
   "execution_count": null,
   "metadata": {},
   "outputs": [],
   "source": []
  },
  {
   "cell_type": "markdown",
   "metadata": {},
   "source": [
    "# (g) (1 point) \n",
    "### Compare the numerical values of the PageRank row vector v for two different values of the damping factor d=0.85 and d=1. What is the basic difference between them? Explain it. "
   ]
  },
  {
   "cell_type": "code",
   "execution_count": null,
   "metadata": {},
   "outputs": [],
   "source": []
  }
 ],
 "metadata": {
  "kernelspec": {
   "display_name": "Python 3.7.4 64-bit",
   "language": "python",
   "name": "python3"
  },
  "language_info": {
   "codemirror_mode": {
    "name": "ipython",
    "version": 3
   },
   "file_extension": ".py",
   "mimetype": "text/x-python",
   "name": "python",
   "nbconvert_exporter": "python",
   "pygments_lexer": "ipython3",
   "version": "3.7.4"
  },
  "orig_nbformat": 4,
  "vscode": {
   "interpreter": {
    "hash": "fec7c492cb63a891b61f6a129c254b2f9b08ab3c88ef1c1ffe13c4cf2a66800d"
   }
  }
 },
 "nbformat": 4,
 "nbformat_minor": 2
}
